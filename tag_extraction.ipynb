{
 "cells": [
  {
   "cell_type": "markdown",
   "id": "b81a7353-19e5-492e-b3c6-d24248798835",
   "metadata": {},
   "source": [
    "## Web-Scraping and Data Preprocessing "
   ]
  },
  {
   "cell_type": "code",
   "execution_count": 4,
   "id": "0e3c48fa-ca84-4c51-b936-444cfc2ebde0",
   "metadata": {},
   "outputs": [],
   "source": [
    "import requests\n",
    "import pandas as pd\n",
    "from bs4 import BeautifulSoup"
   ]
  },
  {
   "cell_type": "markdown",
   "id": "e45c70a5-794f-49c8-973a-f64926f8924a",
   "metadata": {},
   "source": [
    "The scrape_details function collects quote details such as the quote text, author name, and associated tags from a list of URLs using BeautifulSoup. It then organizes this information into a pandas DataFrame for further processing. It uses the internal structure of the initial HTML page to extract the information."
   ]
  },
  {
   "cell_type": "code",
   "execution_count": 128,
   "id": "f43c2c80-7ea7-4ac4-9207-1c3ad00df96c",
   "metadata": {},
   "outputs": [],
   "source": [
    "def scrape_details(urls): \n",
    "    df = pd.DataFrame()\n",
    "    for url in urls:\n",
    "        response=requests.get(url)\n",
    "        doc=BeautifulSoup(response.text,'html.parser')\n",
    "        div_tags=doc.find_all('div',class_='quote')\n",
    "        for tag in div_tags:\n",
    "            quote=tag.find('span',class_='text').text\n",
    "            span_tag=tag.find('span',class_=None)\n",
    "            author=span_tag.find('small',class_='author').text\n",
    "            name_tag=tag.find('div',class_='tags').meta['content']\n",
    "            quotes_dict = [{\"quote\":quote, \"tags\":name_tag, \"author\": author}]\n",
    "            df_curr=pd.DataFrame(quotes_dict)\n",
    "            df = pd.concat([df, df_curr], ignore_index=2)\n",
    "    return df "
   ]
  },
  {
   "cell_type": "markdown",
   "id": "84a785b4-5aae-4cbb-ae35-113af71732a3",
   "metadata": {},
   "source": [
    "The function scrape_all(pages) is designed to scrape data from multiple pages on \"quotes.toscrape.com\". It first constructs a list of URLs corresponding to the pages specified in the pages argument. Since it has only 10 pages this can be initialized as (1,11). But for future purposes it serves as a great generalized page based scraping. Then, it calls  the scrape_details(urls) to scrape data from each of these URLs and aggregates the results into a single DataFrame df. Finally, it returns this DataFrame."
   ]
  },
  {
   "cell_type": "code",
   "execution_count": 129,
   "id": "70578efb-ddc4-4d13-a78c-c7f3716281e0",
   "metadata": {},
   "outputs": [],
   "source": [
    "def scrape_all(pages):\n",
    "    df = pd.DataFrame()\n",
    "    urls = []\n",
    "    for page in pages:\n",
    "        url = f'https://quotes.toscrape.com/page/{page}/'\n",
    "        urls.append(url)\n",
    "    print(urls)\n",
    "    df = scrape_details(urls)\n",
    "    return df"
   ]
  },
  {
   "cell_type": "code",
   "execution_count": 130,
   "id": "af53e692-c05d-4d3e-97b2-4f794a677d19",
   "metadata": {},
   "outputs": [
    {
     "name": "stdout",
     "output_type": "stream",
     "text": [
      "['https://quotes.toscrape.com/page/1/', 'https://quotes.toscrape.com/page/2/', 'https://quotes.toscrape.com/page/3/', 'https://quotes.toscrape.com/page/4/', 'https://quotes.toscrape.com/page/5/', 'https://quotes.toscrape.com/page/6/', 'https://quotes.toscrape.com/page/7/', 'https://quotes.toscrape.com/page/8/', 'https://quotes.toscrape.com/page/9/', 'https://quotes.toscrape.com/page/10/']\n"
     ]
    }
   ],
   "source": [
    "df = scrape_all(range(1,11))"
   ]
  },
  {
   "cell_type": "code",
   "execution_count": 51,
   "id": "ec1d189b-b3c0-4c7e-b04e-d1ccede38e07",
   "metadata": {},
   "outputs": [],
   "source": [
    "df.to_csv(\"quotes.csv\", index=False)"
   ]
  },
  {
   "cell_type": "code",
   "execution_count": 307,
   "id": "8059fc9e-ce59-4f1b-b062-f29fd62ecd0e",
   "metadata": {},
   "outputs": [],
   "source": [
    "df = pd.read_csv('quotes.csv')\n",
    "df.dropna(inplace=True)"
   ]
  },
  {
   "cell_type": "code",
   "execution_count": 308,
   "id": "e56e879c-473a-4bb3-9b3c-2ea4043a68ad",
   "metadata": {},
   "outputs": [
    {
     "data": {
      "text/plain": [
       "'abilities,choices'"
      ]
     },
     "execution_count": 308,
     "metadata": {},
     "output_type": "execute_result"
    }
   ],
   "source": [
    "df.tags.iloc[1]"
   ]
  },
  {
   "cell_type": "markdown",
   "id": "a427e7eb-70ee-4c09-89a7-53bdd49b01c2",
   "metadata": {},
   "source": [
    "The function preprocess_quotes(df) takes a DataFrame df containing quotes as input and preprocesses each quote in the DataFrame. It removes non-alphanumeric characters, replaces multiple consecutive whitespace characters with a single space, and converts the text to lowercase. By performing these preprocessing steps, the function ensures that the quotes are cleaned and standardized, making them suitable for subsequent text analysis tasks such as topic modeling. The preprocessed quotes can then be used for various natural language processing applications with improved consistency and reliability. This preprocessing pipeline can be also generalized for text preprocessing."
   ]
  },
  {
   "cell_type": "code",
   "execution_count": 309,
   "id": "55d581c5-d4bc-497d-ba7d-ba4bd891e9e7",
   "metadata": {},
   "outputs": [],
   "source": [
    "import re\n",
    "def preprocess_quotes(df):\n",
    "    for i in range(len(df)):\n",
    "        quote = df.quote.iloc[i]\n",
    "        quote = re.sub(r\"[^a-zA-Z0-9ğüşöçıİĞÜŞÖÇ\\s]\", \"\", quote)\n",
    "        quote = re.sub(r\"\\s+\", \" \", quote)\n",
    "        quote = quote.lower()\n",
    "        df.quote.iloc[i] = quote\n",
    "    return df"
   ]
  },
  {
   "cell_type": "code",
   "execution_count": 310,
   "id": "86ceb57f-e365-4234-bab9-56747826e162",
   "metadata": {},
   "outputs": [],
   "source": [
    "preprocess_quotes(df)\n",
    "df_og = df.copy()"
   ]
  },
  {
   "cell_type": "markdown",
   "id": "df478bcc-307e-4c2f-ac77-ec4243720a86",
   "metadata": {},
   "source": [
    "This code snippet first creates a list of unique tags extracted from 'tags' in the DataFrame df. It then iterates over each tag in the list and adds a new column for each tag to the DataFrame, initializing them with zeros. Afterward, it iterates over each row in the DataFrame and extracts the tags associated with each quote. For each tag associated with a quote, it sets the corresponding column value to 1, indicating the presence of that tag for the respective quote. Finally, it removes the original 'tags' column from the DataFrame. This process essentially converts the categorical data represented by tags into a binary format, allowing for easier analysis and modeling."
   ]
  },
  {
   "cell_type": "code",
   "execution_count": 311,
   "id": "e44e54b6-ba56-4f53-822d-fd3388594301",
   "metadata": {},
   "outputs": [],
   "source": [
    "import pandas as pd\n",
    "import warnings\n",
    "\n",
    "warnings.filterwarnings(\"ignore\")\n",
    "tags_list = df['tags'].str.split(',').explode().dropna().unique()\n",
    "for tag in tags_list:\n",
    "    df[tag] = 0\n",
    "for index, row in df.iterrows():\n",
    "    quote_tags = str(row['tags']).split(',')\n",
    "    for tag in quote_tags:\n",
    "        df.at[index, tag] = 1\n",
    "df.drop(columns=['tags'], inplace=True)"
   ]
  },
  {
   "cell_type": "code",
   "execution_count": 313,
   "id": "521e66de-ca65-445a-815b-5a209166df43",
   "metadata": {},
   "outputs": [
    {
     "data": {
      "text/html": [
       "<div>\n",
       "<style scoped>\n",
       "    .dataframe tbody tr th:only-of-type {\n",
       "        vertical-align: middle;\n",
       "    }\n",
       "\n",
       "    .dataframe tbody tr th {\n",
       "        vertical-align: top;\n",
       "    }\n",
       "\n",
       "    .dataframe thead th {\n",
       "        text-align: right;\n",
       "    }\n",
       "</style>\n",
       "<table border=\"1\" class=\"dataframe\">\n",
       "  <thead>\n",
       "    <tr style=\"text-align: right;\">\n",
       "      <th></th>\n",
       "      <th>quote</th>\n",
       "      <th>author</th>\n",
       "      <th>change</th>\n",
       "      <th>deep-thoughts</th>\n",
       "      <th>thinking</th>\n",
       "      <th>world</th>\n",
       "      <th>abilities</th>\n",
       "      <th>choices</th>\n",
       "      <th>inspirational</th>\n",
       "      <th>life</th>\n",
       "      <th>...</th>\n",
       "      <th>christianity</th>\n",
       "      <th>faith</th>\n",
       "      <th>sun</th>\n",
       "      <th>adventure</th>\n",
       "      <th>better-life-empathy</th>\n",
       "      <th>difficult</th>\n",
       "      <th>grown-ups</th>\n",
       "      <th>write</th>\n",
       "      <th>writers</th>\n",
       "      <th>mind</th>\n",
       "    </tr>\n",
       "  </thead>\n",
       "  <tbody>\n",
       "    <tr>\n",
       "      <th>0</th>\n",
       "      <td>the world as we have created it is a process o...</td>\n",
       "      <td>Albert Einstein</td>\n",
       "      <td>1</td>\n",
       "      <td>1</td>\n",
       "      <td>1</td>\n",
       "      <td>1</td>\n",
       "      <td>0</td>\n",
       "      <td>0</td>\n",
       "      <td>0</td>\n",
       "      <td>0</td>\n",
       "      <td>...</td>\n",
       "      <td>0</td>\n",
       "      <td>0</td>\n",
       "      <td>0</td>\n",
       "      <td>0</td>\n",
       "      <td>0</td>\n",
       "      <td>0</td>\n",
       "      <td>0</td>\n",
       "      <td>0</td>\n",
       "      <td>0</td>\n",
       "      <td>0</td>\n",
       "    </tr>\n",
       "    <tr>\n",
       "      <th>1</th>\n",
       "      <td>it is our choices harry that show what we trul...</td>\n",
       "      <td>J.K. Rowling</td>\n",
       "      <td>0</td>\n",
       "      <td>0</td>\n",
       "      <td>0</td>\n",
       "      <td>0</td>\n",
       "      <td>1</td>\n",
       "      <td>1</td>\n",
       "      <td>0</td>\n",
       "      <td>0</td>\n",
       "      <td>...</td>\n",
       "      <td>0</td>\n",
       "      <td>0</td>\n",
       "      <td>0</td>\n",
       "      <td>0</td>\n",
       "      <td>0</td>\n",
       "      <td>0</td>\n",
       "      <td>0</td>\n",
       "      <td>0</td>\n",
       "      <td>0</td>\n",
       "      <td>0</td>\n",
       "    </tr>\n",
       "    <tr>\n",
       "      <th>2</th>\n",
       "      <td>there are only two ways to live your life one ...</td>\n",
       "      <td>Albert Einstein</td>\n",
       "      <td>0</td>\n",
       "      <td>0</td>\n",
       "      <td>0</td>\n",
       "      <td>0</td>\n",
       "      <td>0</td>\n",
       "      <td>0</td>\n",
       "      <td>1</td>\n",
       "      <td>1</td>\n",
       "      <td>...</td>\n",
       "      <td>0</td>\n",
       "      <td>0</td>\n",
       "      <td>0</td>\n",
       "      <td>0</td>\n",
       "      <td>0</td>\n",
       "      <td>0</td>\n",
       "      <td>0</td>\n",
       "      <td>0</td>\n",
       "      <td>0</td>\n",
       "      <td>0</td>\n",
       "    </tr>\n",
       "    <tr>\n",
       "      <th>3</th>\n",
       "      <td>the person be it gentleman or lady who has not...</td>\n",
       "      <td>Jane Austen</td>\n",
       "      <td>0</td>\n",
       "      <td>0</td>\n",
       "      <td>0</td>\n",
       "      <td>0</td>\n",
       "      <td>0</td>\n",
       "      <td>0</td>\n",
       "      <td>0</td>\n",
       "      <td>0</td>\n",
       "      <td>...</td>\n",
       "      <td>0</td>\n",
       "      <td>0</td>\n",
       "      <td>0</td>\n",
       "      <td>0</td>\n",
       "      <td>0</td>\n",
       "      <td>0</td>\n",
       "      <td>0</td>\n",
       "      <td>0</td>\n",
       "      <td>0</td>\n",
       "      <td>0</td>\n",
       "    </tr>\n",
       "    <tr>\n",
       "      <th>4</th>\n",
       "      <td>imperfection is beauty madness is genius and i...</td>\n",
       "      <td>Marilyn Monroe</td>\n",
       "      <td>0</td>\n",
       "      <td>0</td>\n",
       "      <td>0</td>\n",
       "      <td>0</td>\n",
       "      <td>0</td>\n",
       "      <td>0</td>\n",
       "      <td>1</td>\n",
       "      <td>0</td>\n",
       "      <td>...</td>\n",
       "      <td>0</td>\n",
       "      <td>0</td>\n",
       "      <td>0</td>\n",
       "      <td>0</td>\n",
       "      <td>0</td>\n",
       "      <td>0</td>\n",
       "      <td>0</td>\n",
       "      <td>0</td>\n",
       "      <td>0</td>\n",
       "      <td>0</td>\n",
       "    </tr>\n",
       "    <tr>\n",
       "      <th>...</th>\n",
       "      <td>...</td>\n",
       "      <td>...</td>\n",
       "      <td>...</td>\n",
       "      <td>...</td>\n",
       "      <td>...</td>\n",
       "      <td>...</td>\n",
       "      <td>...</td>\n",
       "      <td>...</td>\n",
       "      <td>...</td>\n",
       "      <td>...</td>\n",
       "      <td>...</td>\n",
       "      <td>...</td>\n",
       "      <td>...</td>\n",
       "      <td>...</td>\n",
       "      <td>...</td>\n",
       "      <td>...</td>\n",
       "      <td>...</td>\n",
       "      <td>...</td>\n",
       "      <td>...</td>\n",
       "      <td>...</td>\n",
       "      <td>...</td>\n",
       "    </tr>\n",
       "    <tr>\n",
       "      <th>95</th>\n",
       "      <td>you never really understand a person until you...</td>\n",
       "      <td>Harper Lee</td>\n",
       "      <td>0</td>\n",
       "      <td>0</td>\n",
       "      <td>0</td>\n",
       "      <td>0</td>\n",
       "      <td>0</td>\n",
       "      <td>0</td>\n",
       "      <td>0</td>\n",
       "      <td>0</td>\n",
       "      <td>...</td>\n",
       "      <td>0</td>\n",
       "      <td>0</td>\n",
       "      <td>0</td>\n",
       "      <td>0</td>\n",
       "      <td>1</td>\n",
       "      <td>0</td>\n",
       "      <td>0</td>\n",
       "      <td>0</td>\n",
       "      <td>0</td>\n",
       "      <td>0</td>\n",
       "    </tr>\n",
       "    <tr>\n",
       "      <th>96</th>\n",
       "      <td>you have to write the book that wants to be wr...</td>\n",
       "      <td>Madeleine L'Engle</td>\n",
       "      <td>0</td>\n",
       "      <td>0</td>\n",
       "      <td>0</td>\n",
       "      <td>0</td>\n",
       "      <td>0</td>\n",
       "      <td>0</td>\n",
       "      <td>0</td>\n",
       "      <td>0</td>\n",
       "      <td>...</td>\n",
       "      <td>0</td>\n",
       "      <td>0</td>\n",
       "      <td>0</td>\n",
       "      <td>0</td>\n",
       "      <td>0</td>\n",
       "      <td>1</td>\n",
       "      <td>1</td>\n",
       "      <td>1</td>\n",
       "      <td>1</td>\n",
       "      <td>0</td>\n",
       "    </tr>\n",
       "    <tr>\n",
       "      <th>97</th>\n",
       "      <td>never tell the truth to people who are not wor...</td>\n",
       "      <td>Mark Twain</td>\n",
       "      <td>0</td>\n",
       "      <td>0</td>\n",
       "      <td>0</td>\n",
       "      <td>0</td>\n",
       "      <td>0</td>\n",
       "      <td>0</td>\n",
       "      <td>0</td>\n",
       "      <td>0</td>\n",
       "      <td>...</td>\n",
       "      <td>0</td>\n",
       "      <td>0</td>\n",
       "      <td>0</td>\n",
       "      <td>0</td>\n",
       "      <td>0</td>\n",
       "      <td>0</td>\n",
       "      <td>0</td>\n",
       "      <td>0</td>\n",
       "      <td>0</td>\n",
       "      <td>0</td>\n",
       "    </tr>\n",
       "    <tr>\n",
       "      <th>98</th>\n",
       "      <td>a persons a person no matter how small</td>\n",
       "      <td>Dr. Seuss</td>\n",
       "      <td>0</td>\n",
       "      <td>0</td>\n",
       "      <td>0</td>\n",
       "      <td>0</td>\n",
       "      <td>0</td>\n",
       "      <td>0</td>\n",
       "      <td>1</td>\n",
       "      <td>0</td>\n",
       "      <td>...</td>\n",
       "      <td>0</td>\n",
       "      <td>0</td>\n",
       "      <td>0</td>\n",
       "      <td>0</td>\n",
       "      <td>0</td>\n",
       "      <td>0</td>\n",
       "      <td>0</td>\n",
       "      <td>0</td>\n",
       "      <td>0</td>\n",
       "      <td>0</td>\n",
       "    </tr>\n",
       "    <tr>\n",
       "      <th>99</th>\n",
       "      <td>a mind needs books as a sword needs a whetsto...</td>\n",
       "      <td>George R.R. Martin</td>\n",
       "      <td>0</td>\n",
       "      <td>0</td>\n",
       "      <td>0</td>\n",
       "      <td>0</td>\n",
       "      <td>0</td>\n",
       "      <td>0</td>\n",
       "      <td>0</td>\n",
       "      <td>0</td>\n",
       "      <td>...</td>\n",
       "      <td>0</td>\n",
       "      <td>0</td>\n",
       "      <td>0</td>\n",
       "      <td>0</td>\n",
       "      <td>0</td>\n",
       "      <td>0</td>\n",
       "      <td>0</td>\n",
       "      <td>0</td>\n",
       "      <td>0</td>\n",
       "      <td>1</td>\n",
       "    </tr>\n",
       "  </tbody>\n",
       "</table>\n",
       "<p>97 rows × 139 columns</p>\n",
       "</div>"
      ],
      "text/plain": [
       "                                                quote              author  \\\n",
       "0   the world as we have created it is a process o...     Albert Einstein   \n",
       "1   it is our choices harry that show what we trul...        J.K. Rowling   \n",
       "2   there are only two ways to live your life one ...     Albert Einstein   \n",
       "3   the person be it gentleman or lady who has not...         Jane Austen   \n",
       "4   imperfection is beauty madness is genius and i...      Marilyn Monroe   \n",
       "..                                                ...                 ...   \n",
       "95  you never really understand a person until you...          Harper Lee   \n",
       "96  you have to write the book that wants to be wr...   Madeleine L'Engle   \n",
       "97  never tell the truth to people who are not wor...          Mark Twain   \n",
       "98             a persons a person no matter how small           Dr. Seuss   \n",
       "99   a mind needs books as a sword needs a whetsto...  George R.R. Martin   \n",
       "\n",
       "    change  deep-thoughts  thinking  world  abilities  choices  inspirational  \\\n",
       "0        1              1         1      1          0        0              0   \n",
       "1        0              0         0      0          1        1              0   \n",
       "2        0              0         0      0          0        0              1   \n",
       "3        0              0         0      0          0        0              0   \n",
       "4        0              0         0      0          0        0              1   \n",
       "..     ...            ...       ...    ...        ...      ...            ...   \n",
       "95       0              0         0      0          0        0              0   \n",
       "96       0              0         0      0          0        0              0   \n",
       "97       0              0         0      0          0        0              0   \n",
       "98       0              0         0      0          0        0              1   \n",
       "99       0              0         0      0          0        0              0   \n",
       "\n",
       "    life  ...  christianity  faith  sun  adventure  better-life-empathy  \\\n",
       "0      0  ...             0      0    0          0                    0   \n",
       "1      0  ...             0      0    0          0                    0   \n",
       "2      1  ...             0      0    0          0                    0   \n",
       "3      0  ...             0      0    0          0                    0   \n",
       "4      0  ...             0      0    0          0                    0   \n",
       "..   ...  ...           ...    ...  ...        ...                  ...   \n",
       "95     0  ...             0      0    0          0                    1   \n",
       "96     0  ...             0      0    0          0                    0   \n",
       "97     0  ...             0      0    0          0                    0   \n",
       "98     0  ...             0      0    0          0                    0   \n",
       "99     0  ...             0      0    0          0                    0   \n",
       "\n",
       "    difficult  grown-ups  write  writers  mind  \n",
       "0           0          0      0        0     0  \n",
       "1           0          0      0        0     0  \n",
       "2           0          0      0        0     0  \n",
       "3           0          0      0        0     0  \n",
       "4           0          0      0        0     0  \n",
       "..        ...        ...    ...      ...   ...  \n",
       "95          0          0      0        0     0  \n",
       "96          1          1      1        1     0  \n",
       "97          0          0      0        0     0  \n",
       "98          0          0      0        0     0  \n",
       "99          0          0      0        0     1  \n",
       "\n",
       "[97 rows x 139 columns]"
      ]
     },
     "execution_count": 313,
     "metadata": {},
     "output_type": "execute_result"
    }
   ],
   "source": [
    "df"
   ]
  },
  {
   "cell_type": "markdown",
   "id": "08287c83-ea54-4701-a0de-1ae3943f9de3",
   "metadata": {},
   "source": [
    "## Fine-Tuning KeyBERT"
   ]
  },
  {
   "cell_type": "markdown",
   "id": "4278693d-2762-4c17-a775-3465626e064d",
   "metadata": {},
   "source": [
    "The reason for employing a state-of-the-art model for transfer learning is due to the scarcity of data, which would lead to suboptimal performance with traditional architectures like LSTM and BiLSTM, designed for sequential data processing. Furthermore, it is noteworthy that additional transfer learning models, such as BERT Topic, could be considered for this task. The decision to utilize KeyBERT is motivated by the challenge of dealing with a significantly limited dataset in conjunction with a substantial number of tags. Through the fine-tuning process of KeyBERT, we have achieved an average cosine similarity score exceeding 46%"
   ]
  },
  {
   "cell_type": "code",
   "execution_count": 314,
   "id": "9bd42f4c-b52f-431a-a6df-18400261051c",
   "metadata": {},
   "outputs": [],
   "source": [
    "from transformers import BertForSequenceClassification, BertTokenizerFast \n",
    "import torch \n",
    "from keybert import KeyBERT\n",
    "from sentence_transformers import SentenceTransformer"
   ]
  },
  {
   "cell_type": "markdown",
   "id": "a077f66c-ce5a-4d17-8fe6-24fae15d7e96",
   "metadata": {},
   "source": [
    "The first line instantiates a KeyBERT model, denoted by kw_model KeyBERT is a keyword extraction model that utilizes BERT-based embeddings to identify keywords or key phrases within a given text. For our task, the objective is to extract keywords.\n",
    "The second line initializes a SentenceTransformer model. SentenceTransformer is a siamese network that employs identical weights for both inputs. The rationale for utilizing this model is to evaluate the results obtained from KeyBERT. Both the extracted keywords from KeyBERT and the actual tags will be fed into the network to obtain embeddings. Subsequently, cosine similarity score will be employed for evaluation, comparing the outputs of both models\n",
    "n."
   ]
  },
  {
   "cell_type": "code",
   "execution_count": 315,
   "id": "c0423337-57c9-487c-86c0-c8ad1e16c498",
   "metadata": {},
   "outputs": [],
   "source": [
    "kw_model = KeyBERT()\n",
    "model_for_embeddings = SentenceTransformer('all-MiniLM-L6-v2')"
   ]
  },
  {
   "cell_type": "markdown",
   "id": "488e6155-80c6-4b74-bf93-f59342c61fe6",
   "metadata": {},
   "source": [
    "This line creates a list called 'seed_keywords'. It iterates over each column in the DataFrame 'df' that we have created, where every single tag is a column, and checks if the column name is not equal to \"quote\" or \"author\". If the condition is met, meaning the column is not named \"quote\" or \"author\", which means it is a tag, the column name is added to the 'seed_keywords' list. This list essentially contains the names of all columns in the DataFrame except for \"quote\" and \"author\". These tags are essentially going to be used for fine-tuning of KeyBERT."
   ]
  },
  {
   "cell_type": "code",
   "execution_count": 317,
   "id": "b77bcc44-de64-4063-b4ca-fffb7d321930",
   "metadata": {},
   "outputs": [],
   "source": [
    "seed_keywords = [column for column in df.columns if column not in (\"qoute\", \"author\")] "
   ]
  },
  {
   "cell_type": "markdown",
   "id": "440b9ee1-0730-452a-a691-36f6106b26f2",
   "metadata": {},
   "source": [
    "quotes = df.quote.to_list()"
   ]
  },
  {
   "cell_type": "markdown",
   "id": "e2fbc368-577d-43d7-83c0-eb38a1cd6fbc",
   "metadata": {},
   "source": [
    "The code invokes a keyword extraction process facilitated by the extract_keywords method of the kw_model object. This method takes two main arguments. First, the docs parameter specifies the quotes from which the keywords will be extracted. Second, the seed_keywords parameter provides seed keywords or initial cues to guide the extraction process ,fine-tuning, which are derived from the columns of  our DataFrame, excluding certain specified columns. The extract_keywords method then processes the input documents using the provided seed keywords and returns the extracted keywords."
   ]
  },
  {
   "cell_type": "code",
   "execution_count": 318,
   "id": "8e16d617-b711-454b-b96b-e5c28c64f3b7",
   "metadata": {},
   "outputs": [],
   "source": [
    "output = kw_model.extract_keywords(docs=quotes, seed_keywords=seed_keywords)"
   ]
  },
  {
   "cell_type": "code",
   "execution_count": 319,
   "id": "45870013-e763-48e0-aef6-c2c105bc987e",
   "metadata": {},
   "outputs": [
    {
     "data": {
      "text/plain": [
       "[[('thinking', 0.5109),\n",
       "  ('changing', 0.5043),\n",
       "  ('world', 0.4503),\n",
       "  ('process', 0.396),\n",
       "  ('created', 0.3514)],\n",
       " [('harry', 0.6125),\n",
       "  ('abilities', 0.4428),\n",
       "  ('choices', 0.3607),\n",
       "  ('far', 0.2797),\n",
       "  ('truly', 0.2434)],\n",
       " [('miracle', 0.6189), ('life', 0.4815), ('live', 0.3917), ('ways', 0.2701)],\n",
       " [('novel', 0.5722),\n",
       "  ('lady', 0.4404),\n",
       "  ('gentleman', 0.4351),\n",
       "  ('intolerably', 0.3405),\n",
       "  ('person', 0.3103)],\n",
       " [('imperfection', 0.7058),\n",
       "  ('madness', 0.5221),\n",
       "  ('boring', 0.4572),\n",
       "  ('beauty', 0.4097),\n",
       "  ('genius', 0.2245)]]"
      ]
     },
     "execution_count": 319,
     "metadata": {},
     "output_type": "execute_result"
    }
   ],
   "source": [
    "output[:5]"
   ]
  },
  {
   "cell_type": "markdown",
   "id": "20969b75-6e3d-4721-80a8-9adb5a4be403",
   "metadata": {},
   "source": [
    "This code snippet filters keywords extracted from text documents based on their associated scores. It iterates through each document's keywords and selects only those with a score greater than 0.35. Then, it formats the filtered keywords into comma-separated strings for each document. This process results in a list where each element represents a document's filtered keywords as a string. This will be then used with the actual tags in the sentence transformer encoder."
   ]
  },
  {
   "cell_type": "code",
   "execution_count": 353,
   "id": "b3a85bf4-a0a1-4b02-b84a-a318df6640be",
   "metadata": {},
   "outputs": [
    {
     "data": {
      "text/plain": [
       "['thinking,changing,world,process,created',\n",
       " 'harry,abilities,choices',\n",
       " 'miracle,life,live',\n",
       " 'novel,lady,gentleman',\n",
       " 'imperfection,madness,boring,beauty']"
      ]
     },
     "execution_count": 353,
     "metadata": {},
     "output_type": "execute_result"
    }
   ],
   "source": [
    "output_list = []\n",
    "for i in range(len(output)):\n",
    "    curr_keywords = []\n",
    "    for j in range(len(output[i])):\n",
    "        if output[i][j][1] > .35: \n",
    "            curr_keywords.append(output[i][j][0])\n",
    "    output_list.append(curr_keywords)\n",
    "for i in range(len(output_list)): \n",
    "     output_list[i] = \",\".join(output_list[i])\n",
    "output_list[:5]"
   ]
  },
  {
   "cell_type": "code",
   "execution_count": 354,
   "id": "5384d8c1-a3e9-432e-b4ce-76c3f1e73e34",
   "metadata": {},
   "outputs": [
    {
     "data": {
      "text/html": [
       "<div>\n",
       "<style scoped>\n",
       "    .dataframe tbody tr th:only-of-type {\n",
       "        vertical-align: middle;\n",
       "    }\n",
       "\n",
       "    .dataframe tbody tr th {\n",
       "        vertical-align: top;\n",
       "    }\n",
       "\n",
       "    .dataframe thead th {\n",
       "        text-align: right;\n",
       "    }\n",
       "</style>\n",
       "<table border=\"1\" class=\"dataframe\">\n",
       "  <thead>\n",
       "    <tr style=\"text-align: right;\">\n",
       "      <th></th>\n",
       "      <th>quote</th>\n",
       "      <th>tags</th>\n",
       "      <th>author</th>\n",
       "    </tr>\n",
       "  </thead>\n",
       "  <tbody>\n",
       "    <tr>\n",
       "      <th>0</th>\n",
       "      <td>the world as we have created it is a process o...</td>\n",
       "      <td>change,deep-thoughts,thinking,world</td>\n",
       "      <td>Albert Einstein</td>\n",
       "    </tr>\n",
       "    <tr>\n",
       "      <th>1</th>\n",
       "      <td>it is our choices harry that show what we trul...</td>\n",
       "      <td>abilities,choices</td>\n",
       "      <td>J.K. Rowling</td>\n",
       "    </tr>\n",
       "    <tr>\n",
       "      <th>2</th>\n",
       "      <td>there are only two ways to live your life one ...</td>\n",
       "      <td>inspirational,life,live,miracle,miracles</td>\n",
       "      <td>Albert Einstein</td>\n",
       "    </tr>\n",
       "    <tr>\n",
       "      <th>3</th>\n",
       "      <td>the person be it gentleman or lady who has not...</td>\n",
       "      <td>aliteracy,books,classic,humor</td>\n",
       "      <td>Jane Austen</td>\n",
       "    </tr>\n",
       "    <tr>\n",
       "      <th>4</th>\n",
       "      <td>imperfection is beauty madness is genius and i...</td>\n",
       "      <td>be-yourself,inspirational</td>\n",
       "      <td>Marilyn Monroe</td>\n",
       "    </tr>\n",
       "    <tr>\n",
       "      <th>...</th>\n",
       "      <td>...</td>\n",
       "      <td>...</td>\n",
       "      <td>...</td>\n",
       "    </tr>\n",
       "    <tr>\n",
       "      <th>95</th>\n",
       "      <td>you never really understand a person until you...</td>\n",
       "      <td>better-life-empathy</td>\n",
       "      <td>Harper Lee</td>\n",
       "    </tr>\n",
       "    <tr>\n",
       "      <th>96</th>\n",
       "      <td>you have to write the book that wants to be wr...</td>\n",
       "      <td>books,children,difficult,grown-ups,write,write...</td>\n",
       "      <td>Madeleine L'Engle</td>\n",
       "    </tr>\n",
       "    <tr>\n",
       "      <th>97</th>\n",
       "      <td>never tell the truth to people who are not wor...</td>\n",
       "      <td>truth</td>\n",
       "      <td>Mark Twain</td>\n",
       "    </tr>\n",
       "    <tr>\n",
       "      <th>98</th>\n",
       "      <td>a persons a person no matter how small</td>\n",
       "      <td>inspirational</td>\n",
       "      <td>Dr. Seuss</td>\n",
       "    </tr>\n",
       "    <tr>\n",
       "      <th>99</th>\n",
       "      <td>a mind needs books as a sword needs a whetsto...</td>\n",
       "      <td>books,mind</td>\n",
       "      <td>George R.R. Martin</td>\n",
       "    </tr>\n",
       "  </tbody>\n",
       "</table>\n",
       "<p>97 rows × 3 columns</p>\n",
       "</div>"
      ],
      "text/plain": [
       "                                                quote  \\\n",
       "0   the world as we have created it is a process o...   \n",
       "1   it is our choices harry that show what we trul...   \n",
       "2   there are only two ways to live your life one ...   \n",
       "3   the person be it gentleman or lady who has not...   \n",
       "4   imperfection is beauty madness is genius and i...   \n",
       "..                                                ...   \n",
       "95  you never really understand a person until you...   \n",
       "96  you have to write the book that wants to be wr...   \n",
       "97  never tell the truth to people who are not wor...   \n",
       "98             a persons a person no matter how small   \n",
       "99   a mind needs books as a sword needs a whetsto...   \n",
       "\n",
       "                                                 tags              author  \n",
       "0                 change,deep-thoughts,thinking,world     Albert Einstein  \n",
       "1                                   abilities,choices        J.K. Rowling  \n",
       "2            inspirational,life,live,miracle,miracles     Albert Einstein  \n",
       "3                       aliteracy,books,classic,humor         Jane Austen  \n",
       "4                           be-yourself,inspirational      Marilyn Monroe  \n",
       "..                                                ...                 ...  \n",
       "95                                better-life-empathy          Harper Lee  \n",
       "96  books,children,difficult,grown-ups,write,write...   Madeleine L'Engle  \n",
       "97                                              truth          Mark Twain  \n",
       "98                                      inspirational           Dr. Seuss  \n",
       "99                                         books,mind  George R.R. Martin  \n",
       "\n",
       "[97 rows x 3 columns]"
      ]
     },
     "execution_count": 354,
     "metadata": {},
     "output_type": "execute_result"
    }
   ],
   "source": [
    "df_og"
   ]
  },
  {
   "cell_type": "markdown",
   "id": "5a2a945f-0fc1-40e1-a87e-dcd1e281263c",
   "metadata": {},
   "source": [
    "Same process is also applied to the original tags"
   ]
  },
  {
   "cell_type": "code",
   "execution_count": 355,
   "id": "f80bfd25-883e-45f4-b390-f0f760f756fc",
   "metadata": {},
   "outputs": [
    {
     "data": {
      "text/plain": [
       "['change,deep-thoughts,thinking,world',\n",
       " 'abilities,choices',\n",
       " 'inspirational,life,live,miracle,miracles',\n",
       " 'aliteracy,books,classic,humor',\n",
       " 'be-yourself,inspirational']"
      ]
     },
     "execution_count": 355,
     "metadata": {},
     "output_type": "execute_result"
    }
   ],
   "source": [
    "original_tags = []\n",
    "for i in range(len(df_og)): \n",
    "    original_tags.append(df_og.tags.iloc[i])\n",
    "original_tags[:5]"
   ]
  },
  {
   "cell_type": "code",
   "execution_count": 356,
   "id": "5041f041-4c87-454d-9f37-006e2207ad62",
   "metadata": {},
   "outputs": [
    {
     "name": "stdout",
     "output_type": "stream",
     "text": [
      "True\n"
     ]
    }
   ],
   "source": [
    "print(len(original_tags)==len(output_list))"
   ]
  },
  {
   "cell_type": "markdown",
   "id": "5a99d15f-eeaf-4087-bdfe-7e0d5fb7b35d",
   "metadata": {},
   "source": [
    "This function embedd_outputs_and_tags takes two lists, original_tags and output_list, and generates embeddings for each pair of corresponding elements from these lists using  pre-trained sentence transformer mode called model model_for_embeddings. It iterates through the elements of original_tags and output_list, generates embeddings for each pair, and appends them to the list called embeddings. Finally, it returns the list of embeddings. Essentially, this function embeds both the original tags and the extracted keyword lists into a vector space using the same weights which then will be used for cosine similarity score calculation."
   ]
  },
  {
   "cell_type": "code",
   "execution_count": 357,
   "id": "180d3ce9-0536-46b0-8fff-4523d0265ebc",
   "metadata": {},
   "outputs": [],
   "source": [
    "def embedd_outputs_and_tags(original_tags, output_list): \n",
    "        embeddings = []\n",
    "        for i in range(len(original_tags)): \n",
    "                embedding = model_for_embeddings.encode([original_tags[i], output_list[i]], convert_to_tensor=True)\n",
    "                embeddings.append(embedding)\n",
    "        return embeddings"
   ]
  },
  {
   "cell_type": "code",
   "execution_count": 358,
   "id": "b94dff99-18ea-4a01-b6d4-b01fd5afc0bb",
   "metadata": {},
   "outputs": [],
   "source": [
    "embeddings =embedd_outputs_and_tags(original_tags, output_list)"
   ]
  },
  {
   "cell_type": "markdown",
   "id": "f853b733-107b-431d-b1f5-160a43858868",
   "metadata": {},
   "source": [
    "This function, get_overall_score, computes the average cosine similarity score between pairs of embeddings provided in the embeddings list. It iterates through each pair of embeddings, calculates the cosine similarity between them, and stores the scores. Finally, it returns the average similarity score, providing a measure of overall similarity between the original tags and the extracted keyword lists."
   ]
  },
  {
   "cell_type": "code",
   "execution_count": 359,
   "id": "d7ad6bdd-4698-4ef5-a2b5-101a4d0a8c3a",
   "metadata": {},
   "outputs": [],
   "source": [
    "from sklearn.metrics.pairwise import cosine_similarity\n",
    "import numpy as np\n",
    "def get_overall_score(embeddings):\n",
    "    similarity_scores = []\n",
    "    for i in range(len(embeddings)):\n",
    "        vector1 = embeddings[i][0].reshape(1, -1) \n",
    "        vector2 = embeddings[i][1].reshape(1, -1)\n",
    "        similarity = cosine_similarity(vector1, vector2)\n",
    "        similarity_scores.append(similarity)\n",
    "    return sum(similarity_scores)/len(similarity_scores)"
   ]
  },
  {
   "cell_type": "code",
   "execution_count": 360,
   "id": "bba44921-2b29-4dc6-83c3-1a9fa9ca23c7",
   "metadata": {},
   "outputs": [],
   "source": [
    "model_performance = get_overall_score(embeddings)"
   ]
  },
  {
   "cell_type": "markdown",
   "id": "19cb1574-3334-4e85-9f36-889f181e2356",
   "metadata": {},
   "source": [
    "The resulting score of approximately 46% suggests that, on average, the embeddings of the original tags and the extracted keyword lists exhibit a moderate degree of similarity. A cosine similarity score of 1 indicates perfect similarity, while a score of 0 implies no similarity. Therefore, a score of 46% indicates a reasonable level of resemblance between the original tags and the extracted keywords."
   ]
  },
  {
   "cell_type": "code",
   "execution_count": 361,
   "id": "09f27042-efc1-475d-aa63-7aa5cd3b00e6",
   "metadata": {},
   "outputs": [
    {
     "data": {
      "text/plain": [
       "array([[0.46252713]], dtype=float32)"
      ]
     },
     "execution_count": 361,
     "metadata": {},
     "output_type": "execute_result"
    }
   ],
   "source": [
    "model_performance"
   ]
  }
 ],
 "metadata": {
  "kernelspec": {
   "display_name": "Python 3 (ipykernel)",
   "language": "python",
   "name": "python3"
  },
  "language_info": {
   "codemirror_mode": {
    "name": "ipython",
    "version": 3
   },
   "file_extension": ".py",
   "mimetype": "text/x-python",
   "name": "python",
   "nbconvert_exporter": "python",
   "pygments_lexer": "ipython3",
   "version": "3.10.2"
  }
 },
 "nbformat": 4,
 "nbformat_minor": 5
}
